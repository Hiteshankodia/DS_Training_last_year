{
 "cells": [
  {
   "cell_type": "code",
   "execution_count": 1,
   "id": "0dc9c90c",
   "metadata": {},
   "outputs": [],
   "source": [
    "#importing libraries\n",
    "import numpy as np"
   ]
  },
  {
   "cell_type": "code",
   "execution_count": 2,
   "id": "50c3bee9",
   "metadata": {},
   "outputs": [
    {
     "name": "stdout",
     "output_type": "stream",
     "text": [
      "[1 2 3 4 5 6]\n"
     ]
    }
   ],
   "source": [
    "#initializing array\n",
    "\n",
    "lst = [1,2,3,4,5,6]\n",
    "arr1 = np.array(lst)\n",
    "print(arr1)"
   ]
  },
  {
   "cell_type": "code",
   "execution_count": 3,
   "id": "fc062b4b",
   "metadata": {},
   "outputs": [
    {
     "name": "stdout",
     "output_type": "stream",
     "text": [
      "1\n"
     ]
    }
   ],
   "source": [
    "#dimentions of arr1 - by default 1-D\n",
    "print(arr1.ndim)"
   ]
  },
  {
   "cell_type": "code",
   "execution_count": 4,
   "id": "0a4af349",
   "metadata": {},
   "outputs": [
    {
     "name": "stdout",
     "output_type": "stream",
     "text": [
      "<class 'numpy.ndarray'>\n"
     ]
    }
   ],
   "source": [
    "#type of the arr\n",
    "print(type(arr1))"
   ]
  },
  {
   "cell_type": "code",
   "execution_count": 5,
   "id": "527920d7",
   "metadata": {},
   "outputs": [
    {
     "name": "stdout",
     "output_type": "stream",
     "text": [
      "1.21.5\n"
     ]
    }
   ],
   "source": [
    "# version of numpy\n",
    "print(np.__version__)"
   ]
  },
  {
   "cell_type": "code",
   "execution_count": 6,
   "id": "4bb756ac",
   "metadata": {},
   "outputs": [
    {
     "name": "stdout",
     "output_type": "stream",
     "text": [
      "[1 2 3 4 5 6 7 8]\n"
     ]
    }
   ],
   "source": [
    "#initializing array with tuples\n",
    "\n",
    "arr2 = np.array((1,2,3,4,5,6,7,8))\n",
    "print(arr2)"
   ]
  },
  {
   "cell_type": "code",
   "execution_count": 7,
   "id": "10987d00",
   "metadata": {},
   "outputs": [
    {
     "name": "stdout",
     "output_type": "stream",
     "text": [
      "<class 'numpy.ndarray'>\n"
     ]
    }
   ],
   "source": [
    "print(type(arr2))"
   ]
  },
  {
   "cell_type": "code",
   "execution_count": 8,
   "id": "7796be3e",
   "metadata": {},
   "outputs": [
    {
     "name": "stdout",
     "output_type": "stream",
     "text": [
      "[[[[[ 1  2  3  4  5  6  7  8  9 12 43 54]]]]]\n"
     ]
    }
   ],
   "source": [
    "# 5 D array\n",
    "\n",
    "arr2 = np.array([1,2,3,4,5,6,7,8,9,12,43,54], ndmin = 5)\n",
    "print(arr2)"
   ]
  },
  {
   "cell_type": "code",
   "execution_count": 9,
   "id": "c29f3d98",
   "metadata": {},
   "outputs": [
    {
     "name": "stdout",
     "output_type": "stream",
     "text": [
      "[[[1 2 3]\n",
      "  [4 5 6]]]\n"
     ]
    }
   ],
   "source": [
    "arr_ = np.array([[1,2,3], [4,5,6]], ndmin = 3)\n",
    "print(arr_)\n",
    "# print(arr3.ndim)"
   ]
  },
  {
   "cell_type": "code",
   "execution_count": 10,
   "id": "df68f491",
   "metadata": {},
   "outputs": [
    {
     "name": "stdout",
     "output_type": "stream",
     "text": [
      "5\n"
     ]
    }
   ],
   "source": [
    "print(arr2.ndim)"
   ]
  },
  {
   "cell_type": "code",
   "execution_count": 11,
   "id": "d4e0af34",
   "metadata": {},
   "outputs": [
    {
     "name": "stdout",
     "output_type": "stream",
     "text": [
      "23\n"
     ]
    }
   ],
   "source": [
    "# accessing 1D array using index\n",
    "\n",
    "arr3 = np.array([43,65,23,76,98])\n",
    "print(arr3[2])"
   ]
  },
  {
   "cell_type": "code",
   "execution_count": 12,
   "id": "8065c93d",
   "metadata": {},
   "outputs": [
    {
     "name": "stdout",
     "output_type": "stream",
     "text": [
      "2\n"
     ]
    },
    {
     "name": "stderr",
     "output_type": "stream",
     "text": [
      "C:\\Users\\krishna\\AppData\\Local\\Temp\\ipykernel_9892\\2576381472.py:1: VisibleDeprecationWarning: Creating an ndarray from ragged nested sequences (which is a list-or-tuple of lists-or-tuples-or ndarrays with different lengths or shapes) is deprecated. If you meant to do this, you must specify 'dtype=object' when creating the ndarray.\n",
      "  arr4 = np.array([[1,2,3,4,5,6], [5,6,3,6,8]], ndmin = 2)\n"
     ]
    }
   ],
   "source": [
    "arr4 = np.array([[1,2,3,4,5,6], [5,6,3,6,8]], ndmin = 2)\n",
    "print(arr4.ndim)"
   ]
  },
  {
   "cell_type": "code",
   "execution_count": 13,
   "id": "bc42f6b0",
   "metadata": {},
   "outputs": [
    {
     "name": "stdout",
     "output_type": "stream",
     "text": [
      "[[list([1, 2, 3, 4, 5, 6]) list([5, 6, 3, 6, 8])]]\n"
     ]
    }
   ],
   "source": [
    "print(arr4)"
   ]
  },
  {
   "cell_type": "code",
   "execution_count": 14,
   "id": "0be193e4",
   "metadata": {},
   "outputs": [
    {
     "name": "stdout",
     "output_type": "stream",
     "text": [
      "4\n"
     ]
    }
   ],
   "source": [
    "# accessing elements of 2D array\n",
    "\n",
    "arr5 = np.array([[1,2,3,4,5], [5,3,4,6,7]])\n",
    "print(arr5[1, 2])"
   ]
  },
  {
   "cell_type": "code",
   "execution_count": 15,
   "id": "d1ffbeb6",
   "metadata": {},
   "outputs": [
    {
     "name": "stdout",
     "output_type": "stream",
     "text": [
      "4\n"
     ]
    }
   ],
   "source": [
    "# accessing elements of 3D array\n",
    "\n",
    "arr6 = np.array([[[1,2,3,4,5], [3,4,5,6,7]], [[4,5,6,7,8], [6,7,8,9,1]]])\n",
    "print(arr6[0,1,1])"
   ]
  },
  {
   "cell_type": "code",
   "execution_count": 16,
   "id": "b5c60cd5",
   "metadata": {},
   "outputs": [
    {
     "name": "stdout",
     "output_type": "stream",
     "text": [
      "[2. 3. 4. 5.]\n"
     ]
    }
   ],
   "source": [
    "# array slicing\n",
    "\n",
    "arr7 = np.array([1.0,2,3,4,5,6,7,8,9,0])\n",
    "\n",
    "# arr_name[start_indes : ending index] - ending index -> exlusive\n",
    "print(arr7[1:5])"
   ]
  },
  {
   "cell_type": "code",
   "execution_count": 17,
   "id": "abcd46ce",
   "metadata": {},
   "outputs": [
    {
     "data": {
      "text/plain": [
       "numpy.ndarray"
      ]
     },
     "execution_count": 17,
     "metadata": {},
     "output_type": "execute_result"
    }
   ],
   "source": [
    "type(arr7)"
   ]
  },
  {
   "cell_type": "code",
   "execution_count": 18,
   "id": "ce0c7848",
   "metadata": {},
   "outputs": [
    {
     "name": "stdout",
     "output_type": "stream",
     "text": [
      "[1. 4. 7. 0.]\n"
     ]
    }
   ],
   "source": [
    "# slicing with steps\n",
    "print(arr7[0:10:3])"
   ]
  },
  {
   "cell_type": "code",
   "execution_count": 19,
   "id": "2d8b9cb1",
   "metadata": {},
   "outputs": [
    {
     "name": "stdout",
     "output_type": "stream",
     "text": [
      "float64\n"
     ]
    }
   ],
   "source": [
    "# datatypes of elements of array - use dtype object\n",
    "print(arr7.dtype)"
   ]
  },
  {
   "cell_type": "code",
   "execution_count": 20,
   "id": "55feecc3",
   "metadata": {},
   "outputs": [
    {
     "name": "stdout",
     "output_type": "stream",
     "text": [
      "<U7\n"
     ]
    }
   ],
   "source": [
    "arr8 = np.array([\"Krishna\", \"Kant\", \"Singhal\"])\n",
    "print(arr8.dtype)"
   ]
  },
  {
   "cell_type": "code",
   "execution_count": 21,
   "id": "577d32e1",
   "metadata": {},
   "outputs": [
    {
     "name": "stdout",
     "output_type": "stream",
     "text": [
      "float64\n"
     ]
    }
   ],
   "source": [
    "arr9 = np.array([1.3, 1.5, 6.4])\n",
    "print(arr9.dtype)"
   ]
  },
  {
   "cell_type": "code",
   "execution_count": 22,
   "id": "11a9e0e2",
   "metadata": {},
   "outputs": [
    {
     "name": "stdout",
     "output_type": "stream",
     "text": [
      "[[1 2 3 4]\n",
      " [5 6 7 8]\n",
      " [9 4 3 2]]\n"
     ]
    }
   ],
   "source": [
    "# reshaping arrays - 2D\n",
    "\n",
    "arr10 = np.array([1,2,3,4,5,6,7,8,9,4,3,2])\n",
    "# print(arr10)\n",
    "arr11 = arr10.reshape(3,4)\n",
    "print(arr11)"
   ]
  },
  {
   "cell_type": "code",
   "execution_count": 23,
   "id": "e9b7ad26",
   "metadata": {},
   "outputs": [
    {
     "name": "stdout",
     "output_type": "stream",
     "text": [
      "[[[1 2]\n",
      "  [3 4]\n",
      "  [5 6]]\n",
      "\n",
      " [[7 8]\n",
      "  [9 4]\n",
      "  [3 2]]]\n"
     ]
    }
   ],
   "source": [
    "# reshaping array - 3D\n",
    "\n",
    "arr12 = arr10.reshape(2,3,2)\n",
    "print(arr12)"
   ]
  },
  {
   "cell_type": "code",
   "execution_count": 24,
   "id": "f2fcbd1e",
   "metadata": {},
   "outputs": [
    {
     "name": "stdout",
     "output_type": "stream",
     "text": [
      "[1 2 3 4 5 6 7 8 9 4 3 2]\n"
     ]
    }
   ],
   "source": [
    "# Reshaping arrays - 1D - use -1 as an argument\n",
    "\n",
    "arr13 = arr12.reshape(-1)\n",
    "print(arr13)"
   ]
  },
  {
   "cell_type": "code",
   "execution_count": 25,
   "id": "8713ea1b",
   "metadata": {},
   "outputs": [
    {
     "name": "stdout",
     "output_type": "stream",
     "text": [
      "1\n",
      "2\n",
      "3\n",
      "4\n",
      "5\n",
      "6\n",
      "7\n",
      "8\n",
      "9\n",
      "4\n",
      "3\n",
      "2\n"
     ]
    }
   ],
   "source": [
    "# accessing array using nditer() function\n",
    "\n",
    "for x in np.nditer(arr12):\n",
    "    print(x)"
   ]
  },
  {
   "cell_type": "code",
   "execution_count": 26,
   "id": "fb58cd97",
   "metadata": {},
   "outputs": [
    {
     "name": "stdout",
     "output_type": "stream",
     "text": [
      "[1 2 3 3 4 5]\n"
     ]
    }
   ],
   "source": [
    "# concatination - adding - joining\n",
    "\n",
    "arr14 = np.array([1,2,3])\n",
    "arr15 = np.array([3,4,5])\n",
    "\n",
    "arr16 = np.concatenate((arr14, arr15), axis = 0)\n",
    "print(arr16)"
   ]
  },
  {
   "cell_type": "code",
   "execution_count": 27,
   "id": "f8b75d3a",
   "metadata": {},
   "outputs": [
    {
     "name": "stdout",
     "output_type": "stream",
     "text": [
      "[[1 2 3 3 4 5]\n",
      " [1 2 6 6 8 6]]\n"
     ]
    }
   ],
   "source": [
    "arr17 = np.array([[1,2,3],[1,2,6]])\n",
    "arr18 = np.array([[3,4,5],[6,8,6]])\n",
    "\n",
    "arr19 = np.concatenate((arr17, arr18), axis = 1)\n",
    "print(arr19)"
   ]
  },
  {
   "cell_type": "code",
   "execution_count": 28,
   "id": "70105578",
   "metadata": {},
   "outputs": [
    {
     "name": "stdout",
     "output_type": "stream",
     "text": [
      "[array([1, 2, 4]), array([5, 6]), array([ 7, 32]), array([2, 6])]\n"
     ]
    }
   ],
   "source": [
    "# splitting arrays - array_split()\n",
    "\n",
    "arr20 = np.array([1,2,4,5,6,7,32,2,6])\n",
    "arr21 = np.array_split(arr20, 4)\n",
    "print(arr21)"
   ]
  },
  {
   "cell_type": "code",
   "execution_count": 29,
   "id": "9ddcf7db",
   "metadata": {},
   "outputs": [
    {
     "name": "stdout",
     "output_type": "stream",
     "text": [
      "[ 7 32]\n"
     ]
    }
   ],
   "source": [
    "print(arr21[2])"
   ]
  },
  {
   "cell_type": "code",
   "execution_count": 30,
   "id": "4e7fb053",
   "metadata": {},
   "outputs": [],
   "source": [
    "# sorting the numpy array\n",
    "\n",
    "arr22 = np.sort(arr12)"
   ]
  },
  {
   "cell_type": "code",
   "execution_count": 31,
   "id": "95d6afc9",
   "metadata": {},
   "outputs": [
    {
     "data": {
      "text/plain": [
       "array([[[1, 2],\n",
       "        [3, 4],\n",
       "        [5, 6]],\n",
       "\n",
       "       [[7, 8],\n",
       "        [9, 4],\n",
       "        [3, 2]]])"
      ]
     },
     "execution_count": 31,
     "metadata": {},
     "output_type": "execute_result"
    }
   ],
   "source": [
    "arr12"
   ]
  },
  {
   "cell_type": "code",
   "execution_count": 32,
   "id": "c1650434",
   "metadata": {},
   "outputs": [
    {
     "data": {
      "text/plain": [
       "[array([[[1, 2],\n",
       "         [3, 4],\n",
       "         [5, 6]]]),\n",
       " array([[[7, 8],\n",
       "         [9, 4],\n",
       "         [3, 2]]])]"
      ]
     },
     "execution_count": 32,
     "metadata": {},
     "output_type": "execute_result"
    }
   ],
   "source": [
    "arr_ = np.array_split(arr12, 2)\n",
    "arr_"
   ]
  },
  {
   "cell_type": "code",
   "execution_count": 33,
   "id": "4802150f",
   "metadata": {},
   "outputs": [
    {
     "name": "stdout",
     "output_type": "stream",
     "text": [
      "[[[1 2]\n",
      "  [3 4]\n",
      "  [5 6]]\n",
      "\n",
      " [[7 8]\n",
      "  [4 9]\n",
      "  [2 3]]]\n"
     ]
    }
   ],
   "source": [
    "print(arr22)"
   ]
  },
  {
   "cell_type": "code",
   "execution_count": 34,
   "id": "9c921675",
   "metadata": {},
   "outputs": [
    {
     "name": "stdout",
     "output_type": "stream",
     "text": [
      "[1 3 4 7 8 0]\n"
     ]
    }
   ],
   "source": [
    "# filtering the arrays\n",
    "\n",
    "arr23 = np.array([1,2,3,4,5,6,7,8,9,0])\n",
    "x = [True, False, True, True, False, False, True, True, False, True]\n",
    "\n",
    "arr24 = arr23[x]\n",
    "print(arr24)"
   ]
  },
  {
   "cell_type": "code",
   "execution_count": 35,
   "id": "8389019d",
   "metadata": {},
   "outputs": [],
   "source": [
    "#import random from numpy\n",
    "\n",
    "from numpy import random"
   ]
  },
  {
   "cell_type": "code",
   "execution_count": 36,
   "id": "1e138cc3",
   "metadata": {},
   "outputs": [
    {
     "data": {
      "text/plain": [
       "array([69, 48, 37, 25, 44])"
      ]
     },
     "execution_count": 36,
     "metadata": {},
     "output_type": "execute_result"
    }
   ],
   "source": [
    "# random integer\n",
    "\n",
    "x = random.randint(100, size = 5)\n",
    "x"
   ]
  },
  {
   "cell_type": "code",
   "execution_count": 37,
   "id": "8d491afe",
   "metadata": {},
   "outputs": [
    {
     "data": {
      "text/plain": [
       "0.6479531441057372"
      ]
     },
     "execution_count": 37,
     "metadata": {},
     "output_type": "execute_result"
    }
   ],
   "source": [
    "# random float -> 0 to 1\n",
    "\n",
    "y = random.rand()\n",
    "y"
   ]
  },
  {
   "cell_type": "code",
   "execution_count": 38,
   "id": "b35195e8",
   "metadata": {
    "scrolled": true
   },
   "outputs": [
    {
     "name": "stdout",
     "output_type": "stream",
     "text": [
      "[[[17 98 15]\n",
      "  [18 59 38]\n",
      "  [50  8 29]]\n",
      "\n",
      " [[16 56 92]\n",
      "  [82 85 48]\n",
      "  [41 11 47]]]\n"
     ]
    }
   ],
   "source": [
    "z = random.randint(100, size = (2,3,3))\n",
    "print(z)"
   ]
  },
  {
   "cell_type": "code",
   "execution_count": 39,
   "id": "2a1bad9b",
   "metadata": {},
   "outputs": [
    {
     "data": {
      "text/plain": [
       "array([[[3, 6, 5, 1],\n",
       "        [3, 7, 3, 6],\n",
       "        [1, 1, 3, 1]],\n",
       "\n",
       "       [[3, 6, 6, 2],\n",
       "        [7, 1, 2, 5],\n",
       "        [5, 1, 5, 2]]])"
      ]
     },
     "execution_count": 39,
     "metadata": {},
     "output_type": "execute_result"
    }
   ],
   "source": [
    "# choice\n",
    "\n",
    "a = random.choice([1,2,3,4,5,6,7], size = (2,3,4))\n",
    "a"
   ]
  }
 ],
 "metadata": {
  "kernelspec": {
   "display_name": "Python 3 (ipykernel)",
   "language": "python",
   "name": "python3"
  },
  "language_info": {
   "codemirror_mode": {
    "name": "ipython",
    "version": 3
   },
   "file_extension": ".py",
   "mimetype": "text/x-python",
   "name": "python",
   "nbconvert_exporter": "python",
   "pygments_lexer": "ipython3",
   "version": "3.9.12"
  }
 },
 "nbformat": 4,
 "nbformat_minor": 5
}
